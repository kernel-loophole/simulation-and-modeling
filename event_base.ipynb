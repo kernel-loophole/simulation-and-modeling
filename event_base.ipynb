{
  "nbformat": 4,
  "nbformat_minor": 0,
  "metadata": {
    "colab": {
      "provenance": []
    },
    "kernelspec": {
      "name": "python3",
      "display_name": "Python 3"
    },
    "language_info": {
      "name": "python"
    }
  },
  "cells": [
    {
      "cell_type": "code",
      "execution_count": 64,
      "metadata": {
        "id": "V7dpb9P6nuQE"
      },
      "outputs": [],
      "source": [
        "import random\n",
        "from statistics import mean\n"
      ]
    },
    {
      "cell_type": "code",
      "source": [
        "def calcluate_w(x,y):\n",
        "  return (1/((y)-(x)))\n",
        "def calcluate_wq(x,y):\n",
        "  return x/((y*(y-x)))"
      ],
      "metadata": {
        "id": "_6TTMEOTn2UL"
      },
      "execution_count": 65,
      "outputs": []
    },
    {
      "cell_type": "code",
      "source": [
        "def calcluate_lq(x,y):\n",
        "  return (pow(x,2)/(y*(y-x)))"
      ],
      "metadata": {
        "id": "NsjwgNkwqqQK"
      },
      "execution_count": 66,
      "outputs": []
    },
    {
      "cell_type": "code",
      "source": [
        "def calcluate_L(x,y):\n",
        "  return (x/((y)-(x)))"
      ],
      "metadata": {
        "id": "FVEUOaCeznfP"
      },
      "execution_count": 68,
      "outputs": []
    },
    {
      "cell_type": "code",
      "source": [
        "def waiting_time_of_each(service_time,enter_time):\n",
        "  time_exit=service_time+enter_time\n",
        "  return (time_exit-enter_time)\n",
        "\n",
        "\n",
        "# calcluate_L(2/3,4/3)"
      ],
      "metadata": {
        "id": "D4TILEWJz3ap"
      },
      "execution_count": 69,
      "outputs": []
    },
    {
      "cell_type": "code",
      "source": [
        "def customer(total_cust):\n",
        "  number_of_customer=total_cust\n",
        "  inter_arrival_time=[random.randrange(1,5) for i in range(0,number_of_customer)]\n",
        "  service_time=[random.random() for i in range(0,number_of_customer)]\n",
        "  waiting_list=[]\n",
        "  for i in range(0,number_of_customer):\n",
        "    try:\n",
        "      waiting_list.append(waiting_time_of_each(inter_arrival_time[i],service_time[i]))\n",
        "    except:\n",
        "      pass\n",
        "  return waiting_list\n"
      ],
      "metadata": {
        "id": "Cd1HfACpz5_I"
      },
      "execution_count": 70,
      "outputs": []
    },
    {
      "cell_type": "code",
      "source": [
        "for_1000_customer=customer(1000)\n",
        "for_2000_customer=customer(2000)\n",
        "for_5000_customer=customer(5000)\n",
        "print(\"average waiting time of 1000 customer={}\".format(mean(for_1000_customer)))\n",
        "print(\"average waiting time of 2000 customer={}\".format(mean(for_2000_customer)))\n",
        "print(\"average waiting time of 5000 customer={}\".format(mean(for_5000_customer)))\n"
      ],
      "metadata": {
        "colab": {
          "base_uri": "https://localhost:8080/"
        },
        "id": "VOIgdo_U5ZGI",
        "outputId": "f4f3a656-2d14-4b32-85f1-c2350560f3eb"
      },
      "execution_count": 71,
      "outputs": [
        {
          "output_type": "stream",
          "name": "stdout",
          "text": [
            "average waiting time of 1000 customer=2.471\n",
            "average waiting time of 2000 customer=2.515\n",
            "average waiting time of 5000 customer=2.5012\n"
          ]
        }
      ]
    },
    {
      "cell_type": "code",
      "source": [
        "# swap the value \n",
        "number_of_customer=1000\n",
        "inter_arrival_time=[random.randrange(1,5) for i in range(0,number_of_customer)]\n",
        "service_time=[random.random() for i in range(0,number_of_customer)]\n",
        "waiting_list=[]\n",
        "for i in range(0,number_of_customer):\n",
        "  try:\n",
        "    waiting_list.append(waiting_time_of_each(service_time[i],inter_arrival_time[i]))\n",
        "  except:\n",
        "        pass\n",
        "print(\"avg after swaping the value {}\".format(mean(waiting_list)))\n"
      ],
      "metadata": {
        "colab": {
          "base_uri": "https://localhost:8080/"
        },
        "id": "rWyrER-j_Vvk",
        "outputId": "1299ee35-e857-43c4-adb1-dc67543eeac7"
      },
      "execution_count": 73,
      "outputs": [
        {
          "output_type": "stream",
          "name": "stdout",
          "text": [
            "avg after swaping the value 0.4914961948758469\n"
          ]
        }
      ]
    },
    {
      "cell_type": "code",
      "source": [],
      "metadata": {
        "id": "lnzk5QV6GIZu"
      },
      "execution_count": null,
      "outputs": []
    }
  ]
}