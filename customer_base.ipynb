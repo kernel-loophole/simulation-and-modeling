{
  "nbformat": 4,
  "nbformat_minor": 0,
  "metadata": {
    "colab": {
      "provenance": []
    },
    "kernelspec": {
      "name": "python3",
      "display_name": "Python 3"
    },
    "language_info": {
      "name": "python"
    }
  },
  "cells": [
    {
      "cell_type": "code",
      "execution_count": 27,
      "metadata": {
        "id": "QcXUwcx3KAsu"
      },
      "outputs": [],
      "source": [
        "import random\n",
        "from statistics import mean\n"
      ]
    },
    {
      "cell_type": "code",
      "source": [
        "total_cust=100\n",
        "number_of_customer=total_cust\n",
        "inter_arrival_time=[random.randrange(1,5) for i in range(0,number_of_customer)]\n",
        "service_time=[random.random() for i in range(0,number_of_customer)]\n",
        "t=0\n",
        "A=inter_arrival_time[0]\n",
        "D=10000000000\n",
        "Number_in_system=0\n",
        "N=0\n",
        "number_depecter=0\n",
        "total_wait=0\n",
        "total_waiting_time_for_all=[]"
      ],
      "metadata": {
        "id": "XSX1cNBqLeU8"
      },
      "execution_count": 28,
      "outputs": []
    },
    {
      "cell_type": "code",
      "source": [
        "number_of_customer=1000\n",
        "for i in range(0,100):\n",
        "  A=inter_arrival_time[i]\n",
        "  total_wait+=N*(min(A,D)-t)\n",
        "  print(abs(total_wait))\n",
        "  t=min(A,D)\n",
        "  if D>A:\n",
        "    N+=1\n",
        "    if N<1:\n",
        "      D=t+service_time[i]\n",
        "  if D<A:\n",
        "    N-=1\n",
        "    if N>0:\n",
        "      D=t+service_time[i]\n",
        "    else:\n",
        "      D=1000000000000\n",
        "    "
      ],
      "metadata": {
        "colab": {
          "base_uri": "https://localhost:8080/"
        },
        "id": "PVZ_OhT-PBAC",
        "outputId": "f094a81d-4b40-46f6-9117-79d7c0af26f1"
      },
      "execution_count": 29,
      "outputs": [
        {
          "output_type": "stream",
          "name": "stdout",
          "text": [
            "0\n",
            "1\n",
            "1\n",
            "2\n",
            "2\n",
            "13\n",
            "5\n",
            "16\n",
            "16\n",
            "11\n",
            "9\n",
            "13\n",
            "13\n",
            "26\n",
            "2\n",
            "28\n",
            "4\n",
            "13\n",
            "5\n",
            "14\n",
            "26\n",
            "16\n",
            "38\n",
            "8\n",
            "40\n",
            "15\n",
            "41\n",
            "41\n",
            "15\n",
            "14\n",
            "46\n",
            "16\n",
            "48\n",
            "48\n",
            "48\n",
            "13\n",
            "59\n",
            "15\n",
            "15\n",
            "54\n",
            "66\n",
            "16\n",
            "68\n",
            "61\n",
            "27\n",
            "72\n",
            "66\n",
            "19\n",
            "67\n",
            "31\n",
            "81\n",
            "21\n",
            "21\n",
            "32\n",
            "86\n",
            "31\n",
            "25\n",
            "25\n",
            "83\n",
            "94\n",
            "34\n",
            "34\n",
            "96\n",
            "96\n",
            "96\n",
            "99\n",
            "99\n",
            "99\n",
            "31\n",
            "38\n",
            "102\n",
            "102\n",
            "30\n",
            "116\n",
            "106\n",
            "44\n",
            "44\n",
            "33\n",
            "123\n",
            "44\n",
            "44\n",
            "37\n",
            "45\n",
            "121\n",
            "121\n",
            "36\n",
            "136\n",
            "49\n",
            "39\n",
            "50\n",
            "40\n",
            "40\n",
            "52\n",
            "41\n",
            "135\n",
            "40\n",
            "40\n",
            "137\n",
            "39\n",
            "138\n"
          ]
        }
      ]
    },
    {
      "cell_type": "code",
      "source": [],
      "metadata": {
        "id": "AUsPVtm0Uopl"
      },
      "execution_count": 24,
      "outputs": []
    },
    {
      "cell_type": "code",
      "source": [],
      "metadata": {
        "id": "v75fZxKTVSRC"
      },
      "execution_count": null,
      "outputs": []
    }
  ]
}